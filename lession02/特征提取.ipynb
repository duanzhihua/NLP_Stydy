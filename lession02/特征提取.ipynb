{
 "cells": [
  {
   "cell_type": "markdown",
   "metadata": {},
   "source": [
    "\n",
    "# 特征提取 \n",
    "\n",
    "## 基本文本处理\n",
    "\n",
    "### 分词概念\n",
    "\n",
    "在做文本处理的时候，最基本的工作就是对文本的分词处理。\n",
    "\n",
    "说明分词的正向最大、逆向最大、双向最大匹配法\n",
    "\n",
    "\n",
    "\n",
    "\n",
    "### 词和字符的评率统计\n",
    "\n",
    "## 语言模型\n",
    "\n",
    "### 语言模型中的unigram/bigram/trigram的概念\n",
    "\n",
    "### unigram/bigram 的频率统计\n",
    "\n",
    "\n",
    "## 文本矩阵化\n",
    "\n",
    "Bag-of-words词袋模型最初被用在信息检索领域，对于一篇文档来说，假定不考虑文档内的词的顺序关系和语法，只考虑该文档是否出现过这个单词。假设有5类主题，我们的任务是来了一篇文档，判断它属于哪个主题。在训练集中，我们有若干篇文档，它们的主题类型是已知的。我们从中选出一些文档，每篇文档内有一些词，我们利用这些词来构建词袋。我们的词袋可以是这种形式：{‘watch’,'sports','phone','like','roman',……}，然后每篇文档都可以转化为以各个单词作为横坐标，以单词出现的次数为纵坐标的直方图，如下图所示，之后再进行归一化，将每个词出现的频数作为文档的特征。\n",
    "\n",
    "### 分词，好的分词工具\n",
    "\n",
    "### 去停用词、构造词表\n",
    "\n",
    "### 每篇文档向量化\n"
   ]
  },
  {
   "cell_type": "code",
   "execution_count": null,
   "metadata": {},
   "outputs": [],
   "source": []
  }
 ],
 "metadata": {
  "kernelspec": {
   "display_name": "Python [conda env:tensorflow] *",
   "language": "python",
   "name": "conda-env-tensorflow-py"
  },
  "language_info": {
   "codemirror_mode": {
    "name": "ipython",
    "version": 3
   },
   "file_extension": ".py",
   "mimetype": "text/x-python",
   "name": "python",
   "nbconvert_exporter": "python",
   "pygments_lexer": "ipython3",
   "version": "3.6.8"
  }
 },
 "nbformat": 4,
 "nbformat_minor": 2
}
